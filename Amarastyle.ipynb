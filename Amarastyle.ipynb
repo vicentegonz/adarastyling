{
 "cells": [
  {
   "cell_type": "code",
   "execution_count": 5,
   "id": "fb9028b7",
   "metadata": {},
   "outputs": [
    {
     "name": "stdout",
     "output_type": "stream",
     "text": [
      "Requirement already satisfied: pandas in c:\\users\\vga19\\appdata\\local\\programs\\python\\python310\\lib\\site-packages (1.5.1)\n",
      "Requirement already satisfied: numpy>=1.21.0 in c:\\users\\vga19\\appdata\\local\\programs\\python\\python310\\lib\\site-packages (from pandas) (1.23.4)\n",
      "Requirement already satisfied: pytz>=2020.1 in c:\\users\\vga19\\appdata\\local\\programs\\python\\python310\\lib\\site-packages (from pandas) (2022.5)\n",
      "Requirement already satisfied: python-dateutil>=2.8.1 in c:\\users\\vga19\\appdata\\local\\programs\\python\\python310\\lib\\site-packages (from pandas) (2.8.2)\n",
      "Requirement already satisfied: six>=1.5 in c:\\users\\vga19\\appdata\\local\\programs\\python\\python310\\lib\\site-packages (from python-dateutil>=2.8.1->pandas) (1.16.0)\n"
     ]
    },
    {
     "name": "stderr",
     "output_type": "stream",
     "text": [
      "\n",
      "[notice] A new release of pip available: 22.2.2 -> 22.3\n",
      "[notice] To update, run: python.exe -m pip install --upgrade pip\n"
     ]
    }
   ],
   "source": [
    "!pip3 install pandas"
   ]
  },
  {
   "cell_type": "code",
   "execution_count": 6,
   "id": "e4be678a",
   "metadata": {},
   "outputs": [],
   "source": [
    "import pandas as pd"
   ]
  },
  {
   "cell_type": "code",
   "execution_count": 7,
   "id": "c530845d",
   "metadata": {},
   "outputs": [],
   "source": [
    "csv_file = \"./the_office_lines_scripts.csv\"\n",
    "json_file = \"./stopwords.json\""
   ]
  },
  {
   "cell_type": "code",
   "execution_count": 8,
   "id": "ca87a896",
   "metadata": {},
   "outputs": [
    {
     "data": {
      "text/html": [
       "<div>\n",
       "<style scoped>\n",
       "    .dataframe tbody tr th:only-of-type {\n",
       "        vertical-align: middle;\n",
       "    }\n",
       "\n",
       "    .dataframe tbody tr th {\n",
       "        vertical-align: top;\n",
       "    }\n",
       "\n",
       "    .dataframe thead th {\n",
       "        text-align: right;\n",
       "    }\n",
       "</style>\n",
       "<table border=\"1\" class=\"dataframe\">\n",
       "  <thead>\n",
       "    <tr style=\"text-align: right;\">\n",
       "      <th></th>\n",
       "      <th>id</th>\n",
       "      <th>season</th>\n",
       "      <th>episode</th>\n",
       "      <th>scene</th>\n",
       "      <th>line_text</th>\n",
       "      <th>speaker</th>\n",
       "      <th>deleted</th>\n",
       "    </tr>\n",
       "  </thead>\n",
       "  <tbody>\n",
       "    <tr>\n",
       "      <th>0</th>\n",
       "      <td>1</td>\n",
       "      <td>1</td>\n",
       "      <td>1</td>\n",
       "      <td>1</td>\n",
       "      <td>All right Jim. Your quarterlies look very good...</td>\n",
       "      <td>Michael</td>\n",
       "      <td>False</td>\n",
       "    </tr>\n",
       "    <tr>\n",
       "      <th>1</th>\n",
       "      <td>2</td>\n",
       "      <td>1</td>\n",
       "      <td>1</td>\n",
       "      <td>1</td>\n",
       "      <td>Oh, I told you. I couldn't close it. So...</td>\n",
       "      <td>Jim</td>\n",
       "      <td>False</td>\n",
       "    </tr>\n",
       "    <tr>\n",
       "      <th>2</th>\n",
       "      <td>3</td>\n",
       "      <td>1</td>\n",
       "      <td>1</td>\n",
       "      <td>1</td>\n",
       "      <td>So you've come to the master for guidance? Is ...</td>\n",
       "      <td>Michael</td>\n",
       "      <td>False</td>\n",
       "    </tr>\n",
       "    <tr>\n",
       "      <th>3</th>\n",
       "      <td>4</td>\n",
       "      <td>1</td>\n",
       "      <td>1</td>\n",
       "      <td>1</td>\n",
       "      <td>Actually, you called me in here, but yeah.</td>\n",
       "      <td>Jim</td>\n",
       "      <td>False</td>\n",
       "    </tr>\n",
       "    <tr>\n",
       "      <th>4</th>\n",
       "      <td>5</td>\n",
       "      <td>1</td>\n",
       "      <td>1</td>\n",
       "      <td>1</td>\n",
       "      <td>All right. Well, let me show you how it's done.</td>\n",
       "      <td>Michael</td>\n",
       "      <td>False</td>\n",
       "    </tr>\n",
       "    <tr>\n",
       "      <th>...</th>\n",
       "      <td>...</td>\n",
       "      <td>...</td>\n",
       "      <td>...</td>\n",
       "      <td>...</td>\n",
       "      <td>...</td>\n",
       "      <td>...</td>\n",
       "      <td>...</td>\n",
       "    </tr>\n",
       "    <tr>\n",
       "      <th>59904</th>\n",
       "      <td>59905</td>\n",
       "      <td>9</td>\n",
       "      <td>23</td>\n",
       "      <td>112</td>\n",
       "      <td>It all seems so very arbitrary. I applied for ...</td>\n",
       "      <td>Creed</td>\n",
       "      <td>False</td>\n",
       "    </tr>\n",
       "    <tr>\n",
       "      <th>59905</th>\n",
       "      <td>59906</td>\n",
       "      <td>9</td>\n",
       "      <td>23</td>\n",
       "      <td>113</td>\n",
       "      <td>I just feel lucky that I got a chance to share...</td>\n",
       "      <td>Meredith</td>\n",
       "      <td>False</td>\n",
       "    </tr>\n",
       "    <tr>\n",
       "      <th>59906</th>\n",
       "      <td>59907</td>\n",
       "      <td>9</td>\n",
       "      <td>23</td>\n",
       "      <td>114</td>\n",
       "      <td>I���m happy that this was all filmed so I can ...</td>\n",
       "      <td>Phyllis</td>\n",
       "      <td>False</td>\n",
       "    </tr>\n",
       "    <tr>\n",
       "      <th>59907</th>\n",
       "      <td>59908</td>\n",
       "      <td>9</td>\n",
       "      <td>23</td>\n",
       "      <td>115</td>\n",
       "      <td>I sold paper at this company for 12 years. My ...</td>\n",
       "      <td>Jim</td>\n",
       "      <td>False</td>\n",
       "    </tr>\n",
       "    <tr>\n",
       "      <th>59908</th>\n",
       "      <td>59909</td>\n",
       "      <td>9</td>\n",
       "      <td>23</td>\n",
       "      <td>116</td>\n",
       "      <td>I thought it was weird when you picked us to m...</td>\n",
       "      <td>Pam</td>\n",
       "      <td>False</td>\n",
       "    </tr>\n",
       "  </tbody>\n",
       "</table>\n",
       "<p>59909 rows × 7 columns</p>\n",
       "</div>"
      ],
      "text/plain": [
       "          id  season  episode  scene  \\\n",
       "0          1       1        1      1   \n",
       "1          2       1        1      1   \n",
       "2          3       1        1      1   \n",
       "3          4       1        1      1   \n",
       "4          5       1        1      1   \n",
       "...      ...     ...      ...    ...   \n",
       "59904  59905       9       23    112   \n",
       "59905  59906       9       23    113   \n",
       "59906  59907       9       23    114   \n",
       "59907  59908       9       23    115   \n",
       "59908  59909       9       23    116   \n",
       "\n",
       "                                               line_text   speaker  deleted  \n",
       "0      All right Jim. Your quarterlies look very good...   Michael    False  \n",
       "1             Oh, I told you. I couldn't close it. So...       Jim    False  \n",
       "2      So you've come to the master for guidance? Is ...   Michael    False  \n",
       "3             Actually, you called me in here, but yeah.       Jim    False  \n",
       "4        All right. Well, let me show you how it's done.   Michael    False  \n",
       "...                                                  ...       ...      ...  \n",
       "59904  It all seems so very arbitrary. I applied for ...     Creed    False  \n",
       "59905  I just feel lucky that I got a chance to share...  Meredith    False  \n",
       "59906  I���m happy that this was all filmed so I can ...   Phyllis    False  \n",
       "59907  I sold paper at this company for 12 years. My ...       Jim    False  \n",
       "59908  I thought it was weird when you picked us to m...       Pam    False  \n",
       "\n",
       "[59909 rows x 7 columns]"
      ]
     },
     "execution_count": 8,
     "metadata": {},
     "output_type": "execute_result"
    }
   ],
   "source": [
    "scripts_df = pd.read_csv(csv_file, encoding=\"utf_8\")\n",
    "scripts_df"
   ]
  },
  {
   "cell_type": "code",
   "execution_count": 9,
   "id": "fa2b2508",
   "metadata": {},
   "outputs": [
    {
     "data": {
      "text/plain": [
       "\"Oh, I told you. I couldn't close it. So...\""
      ]
     },
     "execution_count": 9,
     "metadata": {},
     "output_type": "execute_result"
    }
   ],
   "source": [
    "scripts_df[\"line_text\"].iloc[1]"
   ]
  },
  {
   "cell_type": "code",
   "execution_count": 10,
   "id": "0147727b",
   "metadata": {},
   "outputs": [
    {
     "data": {
      "text/html": [
       "<div>\n",
       "<style scoped>\n",
       "    .dataframe tbody tr th:only-of-type {\n",
       "        vertical-align: middle;\n",
       "    }\n",
       "\n",
       "    .dataframe tbody tr th {\n",
       "        vertical-align: top;\n",
       "    }\n",
       "\n",
       "    .dataframe thead th {\n",
       "        text-align: right;\n",
       "    }\n",
       "</style>\n",
       "<table border=\"1\" class=\"dataframe\">\n",
       "  <thead>\n",
       "    <tr style=\"text-align: right;\">\n",
       "      <th></th>\n",
       "      <th>0</th>\n",
       "    </tr>\n",
       "  </thead>\n",
       "  <tbody>\n",
       "    <tr>\n",
       "      <th>0</th>\n",
       "      <td>a</td>\n",
       "    </tr>\n",
       "    <tr>\n",
       "      <th>1</th>\n",
       "      <td>about</td>\n",
       "    </tr>\n",
       "    <tr>\n",
       "      <th>2</th>\n",
       "      <td>above</td>\n",
       "    </tr>\n",
       "    <tr>\n",
       "      <th>3</th>\n",
       "      <td>after</td>\n",
       "    </tr>\n",
       "    <tr>\n",
       "      <th>4</th>\n",
       "      <td>again</td>\n",
       "    </tr>\n",
       "    <tr>\n",
       "      <th>...</th>\n",
       "      <td>...</td>\n",
       "    </tr>\n",
       "    <tr>\n",
       "      <th>779</th>\n",
       "      <td>thorough</td>\n",
       "    </tr>\n",
       "    <tr>\n",
       "      <th>780</th>\n",
       "      <td>thoroughly</td>\n",
       "    </tr>\n",
       "    <tr>\n",
       "      <th>781</th>\n",
       "      <td>three</td>\n",
       "    </tr>\n",
       "    <tr>\n",
       "      <th>782</th>\n",
       "      <td>well</td>\n",
       "    </tr>\n",
       "    <tr>\n",
       "      <th>783</th>\n",
       "      <td>wonder</td>\n",
       "    </tr>\n",
       "  </tbody>\n",
       "</table>\n",
       "<p>784 rows × 1 columns</p>\n",
       "</div>"
      ],
      "text/plain": [
       "              0\n",
       "0             a\n",
       "1         about\n",
       "2         above\n",
       "3         after\n",
       "4         again\n",
       "..          ...\n",
       "779    thorough\n",
       "780  thoroughly\n",
       "781       three\n",
       "782        well\n",
       "783      wonder\n",
       "\n",
       "[784 rows x 1 columns]"
      ]
     },
     "execution_count": 10,
     "metadata": {},
     "output_type": "execute_result"
    }
   ],
   "source": [
    "stop_words = pd.read_json(json_file)\n",
    "stop_words"
   ]
  },
  {
   "cell_type": "markdown",
   "id": "474add5d",
   "metadata": {},
   "source": [
    "For an easy acces of the information we can transform the pandas df in three main variables \"characters_data\" wich is a dictionary capable of telling all the seasons/episodes in wich a character was present it also has a place for season metadata to solve the tasks of this option; \"said_jokes\" a list of the posible df positions with a \"That´s what she said\" joke in the line_text column and a dictionary with the seasons as keys and a list of episodes as data.\n"
   ]
  },
  {
   "cell_type": "markdown",
   "id": "ffabea7b",
   "metadata": {},
   "source": [
    "characters_data format = {\n",
    "    name: {\n",
    "        season:{\n",
    "            \"episodes\": [],\n",
    "            \"metadata\": {\n",
    "                to be determined\n",
    "            }\n",
    "        }\n",
    "    }\n",
    "}"
   ]
  },
  {
   "cell_type": "code",
   "execution_count": 31,
   "id": "cac50cf1",
   "metadata": {},
   "outputs": [],
   "source": [
    "def add_character(name, data):\n",
    "    if name not in data.keys():\n",
    "        data[name] = {}\n",
    "        \n",
    "def add_season(season, name, data, seasons_episodes):\n",
    "    if season not in data[name].keys():\n",
    "        data[name][season] = {\n",
    "            \"episodes\": [],\n",
    "            \"metadata\": {}\n",
    "        }\n",
    "    if season not in seasons_episodes.keys():\n",
    "        seasons_episodes[season] = []\n",
    "        \n",
    "def add_episode(episode, season, name, data, seasons_episodes):\n",
    "    if episode not in data[name][season]:\n",
    "        data[name][season][\"episodes\"].append(episode)\n",
    "    if episode not in seasons_episodes[season]:\n",
    "        seasons_episodes[season].append(episode)"
   ]
  },
  {
   "cell_type": "code",
   "execution_count": 33,
   "id": "11a668ab",
   "metadata": {
    "scrolled": false
   },
   "outputs": [
    {
     "name": "stdout",
     "output_type": "stream",
     "text": [
      "\n",
      "Season 1 has 6 episodes.\n",
      "Season 2 has 22 episodes.\n",
      "Season 3 has 23 episodes.\n",
      "Season 4 has 14 episodes.\n",
      "Season 5 has 26 episodes.\n",
      "Season 6 has 24 episodes.\n",
      "Season 7 has 24 episodes.\n",
      "Season 8 has 24 episodes.\n",
      "Season 9 has 23 episodes.\n",
      "\n",
      "There´s 793 characters in the series and a posible 37 \"that´s what she said jokes\".\n"
     ]
    }
   ],
   "source": [
    "characters_data = {}\n",
    "said_jokes = []\n",
    "seasons_episodes = {}\n",
    "joke = \"That's what she said\"\n",
    "for row in scripts_df.itertuples():\n",
    "    if joke.lower() in row[5].lower():\n",
    "        said_jokes.append(row[0])\n",
    "    add_character(row[6], characters_data)\n",
    "    add_season(row[2], row[6], characters_data, seasons_episodes)\n",
    "    add_episode(row[3], row[2], row[6], characters_data, seasons_episodes)\n",
    "\n",
    "print()\n",
    "for season in seasons_episodes:\n",
    "    print(f\"Season {season} has {len(seasons_episodes[season])} episodes.\")\n",
    "print()\n",
    "print(f\"There´s {len(characters_data.keys())} characters in the series and a posible {len(said_jokes)} \\\"that´s what she said jokes\\\".\")"
   ]
  },
  {
   "cell_type": "code",
   "execution_count": null,
   "id": "e84deab9",
   "metadata": {},
   "outputs": [],
   "source": []
  }
 ],
 "metadata": {
  "kernelspec": {
   "display_name": "Python 3.10.4 64-bit",
   "language": "python",
   "name": "python3"
  },
  "language_info": {
   "codemirror_mode": {
    "name": "ipython",
    "version": 3
   },
   "file_extension": ".py",
   "mimetype": "text/x-python",
   "name": "python",
   "nbconvert_exporter": "python",
   "pygments_lexer": "ipython3",
   "version": "3.10.4"
  },
  "vscode": {
   "interpreter": {
    "hash": "ee847152a79292afd68067fa7f82c76497e8ffb52646a4d733755f3444555193"
   }
  }
 },
 "nbformat": 4,
 "nbformat_minor": 5
}
